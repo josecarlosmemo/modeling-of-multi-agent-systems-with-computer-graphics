{
 "cells": [
  {
   "cell_type": "markdown",
   "metadata": {},
   "source": [
    "# Activity 1\n",
    "## Team \"ERROR 404\"\n",
    "- **José Carlos Martínez Núñez** | A01639664\n",
    "- **Tania Sayuri Guizado Hernández** | A01640092\n",
    "- **Gerardo Cortés Leal** | A01639946\n",
    "- **Óscar Jahir Valdés Caballero** | A01638923\n",
    "\n",
    "\n",
    "For this problem, you must submit, a PDF report that studies the statistics of a reactive cleaning robot, as well as the link to the Github repository of the code developed for this activity. The code should conform to the style requested in the following document.\n",
    "\n",
    "**Given:**\n",
    "\n",
    "- Room of MxN spaces.\n",
    "- Number of agents.\n",
    "- Percentage of initially dirty cells.\n",
    "- Maximum execution time.\n",
    "\n",
    "**Perform the following simulation:**\n",
    "\n",
    "- Initialize dirty cells (random locations).\n",
    "- All agents start at cell [1,1].\n",
    "\n",
    "At each time step:\n",
    "    - If the cell is dirty, then it vacuums.\n",
    "    - If the cell is clean, the agent chooses a random direction to move (one of the 8 neighboring cells) and chooses the move action (if it cannot move there, it will stay in the same cell).\n",
    "- The maximum set time is executed.\n",
    "\n",
    "**You must collect the following information during the execution:**\n",
    "\n",
    "- Time needed until all cells are clean (or the maximum time has been reached).\n",
    "- Percentage of clean cells after the end of the simulation.\n",
    "- Number of movements performed by all agents.\n",
    "\n",
    "*Analyze how the number of agents impacts the time spent, as well as the number of movements performed. Develop a report with the observations.*"
   ]
  },
  {
   "cell_type": "code",
   "execution_count": 116,
   "metadata": {},
   "outputs": [],
   "source": [
    "MODEL_PARAMETERS = {\n",
    "    \"ROOM_SIZE\": (10, 10),  # H * W of the Room\n",
    "    \"AGENT_NUM\": 10, # The number of cleaning robots inside the room\n",
    "    \"DIRTY_PERCENTAGE\": 0.4, # Dirty Tiles in Room Percentage\n",
    "    \"MAX_EJECUTION_STEPS\": 500, # The maximum number of steps in the simulation\n",
    "}"
   ]
  },
  {
   "cell_type": "code",
   "execution_count": 117,
   "metadata": {},
   "outputs": [],
   "source": [
    "import agentpy as ap\n",
    "import matplotlib.pyplot as plt\n",
    "import IPython\n",
    "from enum import IntEnum\n",
    "from random import choice as select_randomly"
   ]
  },
  {
   "cell_type": "code",
   "execution_count": 118,
   "metadata": {},
   "outputs": [],
   "source": [
    "class ModelStatus(IntEnum):\n",
    "    DIRTY = 1\n",
    "    ROBOT = 2"
   ]
  },
  {
   "cell_type": "code",
   "execution_count": 119,
   "metadata": {},
   "outputs": [],
   "source": [
    "class DirtyRoom(ap.Model):\n",
    "    def setup(self):\n",
    "        # Parameters to Report\n",
    "        self.cleaned_tiles = 0\n",
    "        self.agent_moves = 0\n",
    "\n",
    "        # Dirty Tile Agent Creation\n",
    "        dirty_tiles = ap.AgentList(self, int(self.p.ROOM_SIZE[0] * self.p.ROOM_SIZE[1] * self.p.DIRTY_PERCENTAGE))\n",
    "        dirty_tiles.type = ModelStatus.DIRTY\n",
    "\n",
    "        # Robot Creation\n",
    "        robots = ap.AgentList(self, self.p.AGENT_NUM)\n",
    "        robots.type = ModelStatus.ROBOT\n",
    "\n",
    "        # Room Creation\n",
    "        self.room = ap.Grid(self, self.p.ROOM_SIZE, track_empty=True)\n",
    "        self.room.add_agents(robots, [(0, 0)] * len(robots), empty=False)\n",
    "        self.room.add_agents(dirty_tiles, random=True, empty=True)\n",
    "\n",
    "\n",
    "    def step(self):\n",
    "        # Looping through each grid position\n",
    "        for pos in self.room.all:\n",
    "            robot = None\n",
    "            dirt = None\n",
    "            # For each agent located in that position\n",
    "            for agent in self.room.grid[pos][0]:\n",
    "                if agent.type == ModelStatus.ROBOT:\n",
    "                    robot = agent\n",
    "                elif agent.type == ModelStatus.DIRTY:\n",
    "                    dirt = agent\n",
    "            # If we found both a dirty tile and a robot in that position\n",
    "            # The robot should clean that position\n",
    "            if dirt and robot:\n",
    "                self.room.remove_agents(dirt)\n",
    "                self.cleaned_tiles+=1\n",
    "                break\n",
    "\n",
    "            else:\n",
    "                # If there was no dirty tile in that position then the robot should move to one\n",
    "                # of it's neighbors\n",
    "                if robot:\n",
    "                    self.room.move_by(robot, select_randomly(\n",
    "                        [(0, 1), (1, 1), (1, 0), (1, -1), (0, -1), (-1, -1), (-1, 0), (-1, 1)]))\n",
    "                    if pos != self.room.positions[robot]:\n",
    "                        self.agent_moves += 1\n",
    "                    break\n",
    "        # Getting List of Currently Active Agents\n",
    "        active_agents = self.room.agents.to_list()\n",
    "        # Currently Active Dirt Piles\n",
    "        dirty_tiles = active_agents.select(active_agents.type == ModelStatus.DIRTY)\n",
    "\n",
    "        # If we have cleaned the whole grid or if we reached the maximum steps\n",
    "        # allowed we stop the execution of the simulation\n",
    "        if len(dirty_tiles) == 0 or self.t == self.p.MAX_EJECUTION_STEPS:\n",
    "            self.end()\n",
    "            self.stop()\n",
    "\n",
    "    def end(self):\n",
    "        # Reporting data\n",
    "        self.report('Tiles Cleaned by Robots Percentage',\n",
    "        round((self.cleaned_tiles / self.p.ROOM_SIZE[0] * self.p.ROOM_SIZE[1])/self.p.DIRTY_PERCENTAGE,1))\n",
    "        self.report(\"Time Taken (Steps)\", self.t)\n",
    "        self.report(\"Moves made by Robots\",self.agent_moves)"
   ]
  },
  {
   "cell_type": "code",
   "execution_count": 120,
   "metadata": {},
   "outputs": [],
   "source": [
    "def animation_plot(model, ax):\n",
    "    attr_grid = model.room.attr_grid('type')\n",
    "    color_dict = {ModelStatus.DIRTY: '#92623a', ModelStatus.ROBOT: '#0000FF', None: \"#ffffff\"}\n",
    "    ax.set_title(f\"Robot Cleaning Simulation\", loc=\"left\", fontdict={'family': 'Futura', 'color': 'black', 'size': 15})\n",
    "    ax.set_xlabel(f\"Step: {model.t}\")\n",
    "    ap.gridplot(attr_grid, ax=ax, color_dict=color_dict, convert=True)"
   ]
  },
  {
   "cell_type": "code",
   "execution_count": null,
   "metadata": {
    "pycharm": {
     "is_executing": true
    }
   },
   "outputs": [],
   "source": [
    "model = DirtyRoom(MODEL_PARAMETERS)\n",
    "fig, ax = plt.subplots()\n",
    "animation = ap.animate(model, fig, ax, animation_plot)\n",
    "IPython.display.HTML(animation.to_jshtml(fps=15))"
   ]
  },
  {
   "cell_type": "code",
   "execution_count": null,
   "metadata": {
    "pycharm": {
     "is_executing": true
    }
   },
   "outputs": [],
   "source": [
    "print(model.reporters)"
   ]
  },
  {
   "cell_type": "markdown",
   "source": [
    "After doing some testing of the model it's evident that with a higher number of agents the program takes a lot longer to run and the moves made by all the agents also increases significantly. It is important to note that the time complexity of each step taken is $O(N \\times M \\times A_n)$, which means the bigger the room and the more agents inside the room the longer the program takes to run. It is worth noting that all the time measurements in the program are made using `steps` as a unit, this is because using time units like seconds or milliseconds will impact the results according to the hardware used to run the program."
   ],
   "metadata": {
    "collapsed": false
   }
  }
 ],
 "metadata": {
  "kernelspec": {
   "display_name": "Python 3 (ipykernel)",
   "language": "python",
   "name": "python3"
  },
  "language_info": {
   "codemirror_mode": {
    "name": "ipython",
    "version": 3
   },
   "file_extension": ".py",
   "mimetype": "text/x-python",
   "name": "python",
   "nbconvert_exporter": "python",
   "pygments_lexer": "ipython3",
   "version": "3.9.15"
  }
 },
 "nbformat": 4,
 "nbformat_minor": 1
}
